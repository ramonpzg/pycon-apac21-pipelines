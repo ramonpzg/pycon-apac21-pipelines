{
 "cells": [
  {
   "cell_type": "markdown",
   "id": "e3da4915-80a0-476e-92ca-c9eb0e4f923e",
   "metadata": {
    "slideshow": {
     "slide_type": "slide"
    },
    "tags": []
   },
   "source": [
    "<center>\n",
    "<h1>↩️ Pipelines 4 All 🔀</h1>\n",
    "    <h3>From Data Engineering to Machine Learning</h3>\n",
    "        <h3>PyCon APAC 2021</h3><br>\n",
    "Ramon Perez <br>\n",
    "19 November 2021 <br>\n",
    "From Sydney With ❤️\n",
    "</center>"
   ]
  },
  {
   "cell_type": "markdown",
   "id": "0be0cedb-0153-448d-a783-157547236955",
   "metadata": {
    "slideshow": {
     "slide_type": "slide"
    },
    "tags": []
   },
   "source": [
    "## Agenda 4 Today\n",
    "\n",
    "1. Scenario/Motivation\n",
    "2. What are Pipelines?\n",
    "3. Why Should You Care?\n",
    "5. Hands-On Tutorial"
   ]
  },
  {
   "cell_type": "markdown",
   "id": "199bcb9d-9a83-44cb-8c80-7dec3e40a390",
   "metadata": {
    "slideshow": {
     "slide_type": "slide"
    },
    "tags": []
   },
   "source": [
    "## 1. Scenario/Motivation\n",
    "\n",
    "As a Data Analyst, have you ever found yourself in the following scenario?\n",
    "\n",
    "Imagine you have a data in a database with information regarding London's public Bike Sharing system, and that you've been asked to derive some insights from that dataset. Your process usually goes as follows.\n",
    "\n",
    "1. Locate the data.\n",
    "2. Write a SQL query to retrieve the data.\n",
    "3. Open up a spreadsheet to clean it and manipulate it.\n",
    "4. Throw the data in a notebook, at Tableau or your BI tool of choice and find insights.\n",
    "5. ...\n",
    "\n",
    "**Let's put this into perspective**"
   ]
  },
  {
   "cell_type": "markdown",
   "id": "66d9b6d1-0121-4097-9fcd-0cc4d793b0ac",
   "metadata": {
    "slideshow": {
     "slide_type": "subslide"
    },
    "tags": []
   },
   "source": [
    "## Step 1 - The Data"
   ]
  },
  {
   "cell_type": "code",
   "execution_count": 1,
   "id": "710ab4ea-22bf-4a3f-9e38-24da7f18a21f",
   "metadata": {},
   "outputs": [
    {
     "name": "stdout",
     "output_type": "stream",
     "text": [
      "timestamp,cnt,t1,t2,hum,wind_speed,weather_code,is_holiday,is_weekend,season\n",
      "2015-01-04 00:00:00,182,3.0,2.0,93.0,6.0,3.0,0.0,1.0,3.0\n",
      "2015-01-04 01:00:00,138,3.0,2.5,93.0,5.0,1.0,0.0,1.0,3.0\n",
      "2015-01-04 02:00:00,134,2.5,2.5,96.5,0.0,1.0,0.0,1.0,3.0\n",
      "2015-01-04 03:00:00,72,2.0,2.0,100.0,0.0,1.0,0.0,1.0,3.0\n"
     ]
    }
   ],
   "source": [
    "!head -n 5 ../data/01_part/raw/london/london_merged.csv"
   ]
  },
  {
   "cell_type": "markdown",
   "id": "21119193-5921-4ae9-b403-85b508472a0e",
   "metadata": {
    "slideshow": {
     "slide_type": "subslide"
    },
    "tags": []
   },
   "source": [
    "## Step 2 - Your Query\n",
    "\n",
    "```sql\n",
    "\n",
    "Select *\n",
    "\n",
    "From my_table\n",
    "\n",
    "ORDER BY date;\n",
    "\n",
    "```"
   ]
  },
  {
   "cell_type": "markdown",
   "id": "557607d2-07c9-4b2b-8777-35275435503f",
   "metadata": {
    "slideshow": {
     "slide_type": "subslide"
    },
    "tags": []
   },
   "source": [
    "## Step 3 - Some Spreadsheet Magic\n",
    "\n",
    "<img align=\"middle\" src=\"../images/spreadsheet.png\" width=\"700\" height=\"500\" />"
   ]
  },
  {
   "cell_type": "markdown",
   "id": "782643e2-b969-410b-a1e1-f483284a54de",
   "metadata": {
    "slideshow": {
     "slide_type": "subslide"
    },
    "tags": []
   },
   "source": [
    "## Step 4 - From Clean Data to Your Favorite BI Tool\n",
    "\n",
    "Uncover insights through data visualization with your BI Tool of choice, and create a dashboard to share your results.\n",
    "\n",
    "<img align=\"middle\" src=\"../images/tableau.png\" width=\"600\" height=\"400\" />"
   ]
  },
  {
   "cell_type": "markdown",
   "id": "cceea214-e1b9-4981-b146-1a03d93309e4",
   "metadata": {
    "slideshow": {
     "slide_type": "subslide"
    },
    "tags": []
   },
   "source": [
    "## Your New Favorite Animal 🐼"
   ]
  },
  {
   "cell_type": "code",
   "execution_count": 74,
   "id": "2948f8cc-b8e0-4c60-af5a-28590c67cd58",
   "metadata": {},
   "outputs": [
    {
     "data": {
      "image/png": "[encoded data removed]",
      "text/plain": [
       "<Figure size 432x288 with 1 Axes>"
      ]
     },
     "metadata": {
      "needs_background": "light"
     },
     "output_type": "display_data"
    }
   ],
   "source": [
    "pd.read_sql('SELECT * FROM bikes_table ORDER BY timestamp', \n",
    "            connection).pipe(cleaning_function).plot(x='timestamp', y='cnt', rot=45)"
   ]
  },
  {
   "cell_type": "markdown",
   "id": "63d0cbff-df28-479a-87da-73f6e778cb1f",
   "metadata": {
    "slideshow": {
     "slide_type": "slide"
    },
    "tags": []
   },
   "source": [
    "# 2. What are pipelines?"
   ]
  },
  {
   "cell_type": "markdown",
   "id": "81f8ebd5-53fa-4efa-8c85-6a84e1963bd2",
   "metadata": {},
   "source": [
    "<img src=\"https://media.istockphoto.com/photos/oil-or-gas-transportation-with-blue-gas-or-pipe-line-valves-on-soil-picture-id1312405670?b=1&k=20&m=1312405670&s=170667a&w=0&h=FqNoVvesCvqLv9l3X2R6lmXSMucXd3Kk8oR3E6cd2Cg=\" width=\"400\" height=\"80\" />\n",
    "\n",
    "> A pipeline is a process used to run, among many things, data or other pieces of information through a series of steps.\n",
    "\n",
    "Many data professionals build pipelines for a living, for example:"
   ]
  },
  {
   "cell_type": "markdown",
   "id": "66b795f6-6344-4637-b42e-357d65d72d85",
   "metadata": {
    "slideshow": {
     "slide_type": "subslide"
    },
    "tags": []
   },
   "source": [
    "## 2.1 Data Engineers\n",
    "\n",
    "<img align=\"middle\" src=\"https://miro.medium.com/max/2000/1*-6tNymvTTqGIWJlzQHwBaw.png\" width=\"400\" height=\"400\" />\n",
    "\n",
    "Usually worry about the movement and transformation of data for ease of use."
   ]
  },
  {
   "cell_type": "markdown",
   "id": "717c79d3-5327-4238-8921-fd347c8b7735",
   "metadata": {
    "slideshow": {
     "slide_type": "subslide"
    },
    "tags": []
   },
   "source": [
    "## 2.2 Data Analysts\n",
    "\n",
    "<img align=\"middle\" src=\"https://1stwebdesigner.com/wp-content/uploads/2019/08/dashboard-design-inspiration-04.jpg\" width=\"400\" height=\"400\" />\n",
    "\n",
    "Automate the ingestion of data, the creation of visualization, and the consumption of insights through reports and dashboards."
   ]
  },
  {
   "cell_type": "markdown",
   "id": "0a2e3903-c2fd-4cda-af89-92f02ae3d2bb",
   "metadata": {
    "slideshow": {
     "slide_type": "subslide"
    },
    "tags": []
   },
   "source": [
    "## 2.3 DevOps Engineers\n",
    "\n",
    "<img align=\"middle\" src=\"https://media.istockphoto.com/photos/devops-concept-picture-id1320780007?b=1&k=20&m=1320780007&s=170667a&w=0&h=19sP7snvIOkuhqEZr7uQgwV2FZ79tVlye-xBFtsEG-c=\" width=\"400\" height=\"400\" />\n",
    "\n",
    "Create robust pipelines that test, inspect, verify, and deploy entire systems and infrastructures."
   ]
  },
  {
   "cell_type": "markdown",
   "id": "53728177-24cf-4036-ae62-d5bec373cf89",
   "metadata": {
    "slideshow": {
     "slide_type": "subslide"
    },
    "tags": []
   },
   "source": [
    "## 2.4 Data Scientists\n",
    "\n",
    "<img align=\"middle\" src=\"https://martinfowler.com/articles/cd4ml/ml-pipeline-1.png\" width=\"400\" height=\"400\" />\n",
    "\n",
    "Create experiments and models that depend on specific engineering steps not provided in the transform part of an ETL pipeline. The output of these pipelines can be a product, decision or idea."
   ]
  },
  {
   "cell_type": "markdown",
   "id": "040ee47f-1e1a-4967-936a-73981c88a9e2",
   "metadata": {
    "slideshow": {
     "slide_type": "subslide"
    },
    "tags": []
   },
   "source": [
    "## 2.5 Machine Learning Engineers (and MLOps)\n",
    "\n",
    "<img align=\"middle\" src=\"https://editor.analyticsvidhya.com/uploads/391201_qcjvkwmjG6iy-NVUKrarxw.png\" width=\"500\" height=\"500\" />\n",
    "\n",
    "Create robust systems that train, save, deploy and monitor machine learning models."
   ]
  },
  {
   "cell_type": "markdown",
   "id": "b70927fa-a488-4e42-945d-43cea78cd9e3",
   "metadata": {
    "slideshow": {
     "slide_type": "slide"
    },
    "tags": []
   },
   "source": [
    "## 3 Why Should you Care?\n",
    "\n",
    "When you have to load, clean a bit, and then do something useful, you are creating a pipeline. Hence, any process involving more than one step can be considered a pipeline and, as such, it should be treated as one. Why?\n",
    "- Automating the steps of your pipeline can save you time, money, and other resources.\n",
    "- Automating these steps allows you to create robust tests around your pipelines.\n",
    "- Increases reproducibility and consistency.\n",
    "- Enables data professionals across the organization to work on different tasks."
   ]
  },
  {
   "cell_type": "markdown",
   "id": "462626db-da63-496c-ab53-7f7dad0d2fc5",
   "metadata": {
    "slideshow": {
     "slide_type": "slide"
    },
    "tags": []
   },
   "source": [
    "## Hands-On Tutorial Time\n",
    "\n",
    "![kermit](https://media.giphy.com/media/XIqCQx02E1U9W/giphy.gif?cid=ecf05e47ymbg77f5348vbu39jfcnphkkm5heakhioguj4rsw&rid=giphy.gif&ct=g)"
   ]
  },
  {
   "cell_type": "markdown",
   "id": "5fa2686c-e992-4fdd-96de-770ce804c18a",
   "metadata": {},
   "source": [
    "<center>\n",
    "    <h1>Thank You!</h1>\n",
    "    <img align=\"middle\" src=\"https://media.makeameme.org/created/panda-says-thank.jpg\" width=\"200\" height=\"200\" />\n",
    "</center>"
   ]
  }
 ],
 "metadata": {
  "kernelspec": {
   "display_name": "Python 3 (ipykernel)",
   "language": "python",
   "name": "python3"
  },
  "language_info": {
   "codemirror_mode": {
    "name": "ipython",
    "version": 3
   },
   "file_extension": ".py",
   "mimetype": "text/x-python",
   "name": "python",
   "nbconvert_exporter": "python",
   "pygments_lexer": "ipython3",
   "version": "3.9.7"
  },
  "toc-autonumbering": false,
  "toc-showcode": true,
  "toc-showmarkdowntxt": false,
  "toc-showtags": false
 },
 "nbformat": 4,
 "nbformat_minor": 5
}
